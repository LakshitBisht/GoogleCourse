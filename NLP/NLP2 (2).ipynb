{
  "cells": [
    {
      "cell_type": "markdown",
      "metadata": {
        "id": "7jUVt70Lrjbw"
      },
      "source": [
        "### Tokenization\n"
      ]
    },
    {
      "cell_type": "code",
      "execution_count": null,
      "metadata": {
        "colab": {
          "base_uri": "https://localhost:8080/"
        },
        "id": "0I5OOlGorjby",
        "outputId": "5c074a8a-2859-4636-9c84-92968221c9af"
      },
      "outputs": [
        {
          "output_type": "execute_result",
          "data": {
            "text/plain": [
              "['It',\n",
              " 'originated',\n",
              " 'from',\n",
              " 'the',\n",
              " 'idea',\n",
              " 'that',\n",
              " 'there',\n",
              " 'are',\n",
              " 'readers',\n",
              " 'who',\n",
              " 'prefer',\n",
              " 'learning',\n",
              " 'new',\n",
              " 'skills',\n",
              " 'from',\n",
              " 'the',\n",
              " 'comforts',\n",
              " 'of',\n",
              " 'their',\n",
              " 'drawing',\n",
              " 'rooms']"
            ]
          },
          "metadata": {},
          "execution_count": 1
        }
      ],
      "source": [
        "from nltk.tokenize import word_tokenize\n",
        "\n",
        "text = \"It originated from the idea that there are readers who prefer learning new skills from the comforts of their drawing rooms\"\n",
        "\n",
        "words=word_tokenize(text)\n",
        "words\n"
      ]
    },
    {
      "cell_type": "markdown",
      "metadata": {
        "id": "WzzuyKB-rjbz"
      },
      "source": [
        "### Stemming\n",
        "##### A stemming algorithm is a computational procedure which reduces all words with the same root… to a common form, usually by stripping each word of its derivational and inflectional suffixes. Stemming is used to normalize words into its base form or root form. For example, celebrates, celebrated and celebrating, all these words are originated with a single root word \"celebrate.\" The big problem with stemming is that sometimes it produces the root word which may not have any meaning.\n",
        "##### For Example:  intelligence, intelligent, and intelligently, all these words are originated with a single root word \"intelligen.\" In English, the word \"intelligen\" do not have any meaning."
      ]
    },
    {
      "cell_type": "markdown",
      "metadata": {
        "id": "VwVr_BY8rjb0"
      },
      "source": [
        "#### Porter Stemmer"
      ]
    },
    {
      "cell_type": "code",
      "execution_count": null,
      "metadata": {
        "scrolled": false,
        "colab": {
          "base_uri": "https://localhost:8080/"
        },
        "id": "q-JuGMhzrjb1",
        "outputId": "4093fb2d-74f1-4086-db9a-90f1a92f25e4"
      },
      "outputs": [
        {
          "output_type": "stream",
          "name": "stdout",
          "text": [
            "Actual: It  Stemmed: it\n",
            "Actual: originated  Stemmed: origin\n",
            "Actual: from  Stemmed: from\n",
            "Actual: the  Stemmed: the\n",
            "Actual: idea  Stemmed: idea\n",
            "Actual: that  Stemmed: that\n",
            "Actual: there  Stemmed: there\n",
            "Actual: are  Stemmed: are\n",
            "Actual: readers  Stemmed: reader\n",
            "Actual: who  Stemmed: who\n",
            "Actual: prefer  Stemmed: prefer\n",
            "Actual: learning  Stemmed: learn\n",
            "Actual: new  Stemmed: new\n",
            "Actual: skills  Stemmed: skill\n",
            "Actual: from  Stemmed: from\n",
            "Actual: the  Stemmed: the\n",
            "Actual: comforts  Stemmed: comfort\n",
            "Actual: of  Stemmed: of\n",
            "Actual: their  Stemmed: their\n",
            "Actual: drawing  Stemmed: draw\n",
            "Actual: rooms  Stemmed: room\n"
          ]
        }
      ],
      "source": [
        "from nltk.stem import PorterStemmer\n",
        "ps = PorterStemmer()\n",
        "for word in words:\n",
        "    print(f\"Actual: {word}  Stemmed: {ps.stem(word)}\")\n"
      ]
    },
    {
      "cell_type": "markdown",
      "metadata": {
        "id": "Cy_BzFC0rjb1"
      },
      "source": [
        "#### Snowball Stemmer"
      ]
    },
    {
      "cell_type": "code",
      "execution_count": null,
      "metadata": {
        "colab": {
          "base_uri": "https://localhost:8080/"
        },
        "id": "YYVqdvcurjb2",
        "outputId": "0309ed5c-6299-4607-c7d1-b0312c583534"
      },
      "outputs": [
        {
          "output_type": "stream",
          "name": "stdout",
          "text": [
            "Actual: It  Stemmed: it\n",
            "Actual: originated  Stemmed: origin\n",
            "Actual: from  Stemmed: from\n",
            "Actual: the  Stemmed: the\n",
            "Actual: idea  Stemmed: idea\n",
            "Actual: that  Stemmed: that\n",
            "Actual: there  Stemmed: there\n",
            "Actual: are  Stemmed: are\n",
            "Actual: readers  Stemmed: reader\n",
            "Actual: who  Stemmed: who\n",
            "Actual: prefer  Stemmed: prefer\n",
            "Actual: learning  Stemmed: learn\n",
            "Actual: new  Stemmed: new\n",
            "Actual: skills  Stemmed: skill\n",
            "Actual: from  Stemmed: from\n",
            "Actual: the  Stemmed: the\n",
            "Actual: comforts  Stemmed: comfort\n",
            "Actual: of  Stemmed: of\n",
            "Actual: their  Stemmed: their\n",
            "Actual: drawing  Stemmed: draw\n",
            "Actual: rooms  Stemmed: room\n"
          ]
        }
      ],
      "source": [
        "from nltk.stem.snowball import SnowballStemmer\n",
        "ss = SnowballStemmer(language = 'english')\n",
        "for word in words:\n",
        "    print(f\"Actual: {word}  Stemmed: {ss.stem(word)}\")\n"
      ]
    },
    {
      "cell_type": "markdown",
      "metadata": {
        "id": "p0I0hFrmrjb2"
      },
      "source": [
        "#### Lancaster Stemmer"
      ]
    },
    {
      "cell_type": "code",
      "execution_count": null,
      "metadata": {
        "colab": {
          "base_uri": "https://localhost:8080/"
        },
        "id": "lThW4VIjrjb3",
        "outputId": "acb5bf9f-fb21-4a82-a018-6023278980ed"
      },
      "outputs": [
        {
          "output_type": "stream",
          "name": "stdout",
          "text": [
            "Actual: It  Stemmed: it\n",
            "Actual: originated  Stemmed: origin\n",
            "Actual: from  Stemmed: from\n",
            "Actual: the  Stemmed: the\n",
            "Actual: idea  Stemmed: ide\n",
            "Actual: that  Stemmed: that\n",
            "Actual: there  Stemmed: ther\n",
            "Actual: are  Stemmed: ar\n",
            "Actual: readers  Stemmed: read\n",
            "Actual: who  Stemmed: who\n",
            "Actual: prefer  Stemmed: pref\n",
            "Actual: learning  Stemmed: learn\n",
            "Actual: new  Stemmed: new\n",
            "Actual: skills  Stemmed: skil\n",
            "Actual: from  Stemmed: from\n",
            "Actual: the  Stemmed: the\n",
            "Actual: comforts  Stemmed: comfort\n",
            "Actual: of  Stemmed: of\n",
            "Actual: their  Stemmed: their\n",
            "Actual: drawing  Stemmed: draw\n",
            "Actual: rooms  Stemmed: room\n"
          ]
        }
      ],
      "source": [
        "from nltk.stem.lancaster import LancasterStemmer\n",
        "ls = LancasterStemmer()\n",
        "for word in words:\n",
        "    print(f\"Actual: {word}  Stemmed: {ls.stem(word)}\")\n"
      ]
    },
    {
      "cell_type": "markdown",
      "metadata": {
        "id": "QA7H10u6rjb4"
      },
      "source": [
        "#### Regexp Stemmer"
      ]
    },
    {
      "cell_type": "code",
      "execution_count": null,
      "metadata": {
        "colab": {
          "base_uri": "https://localhost:8080/"
        },
        "id": "oSN5N5PNrjb4",
        "outputId": "c85872f3-2688-4ee7-a3f4-590691d39931"
      },
      "outputs": [
        {
          "output_type": "stream",
          "name": "stdout",
          "text": [
            "Actual: It  Stemmed: It\n",
            "Actual: originated  Stemmed: originated\n",
            "Actual: from  Stemmed: from\n",
            "Actual: the  Stemmed: the\n",
            "Actual: idea  Stemmed: idea\n",
            "Actual: that  Stemmed: that\n",
            "Actual: there  Stemmed: there\n",
            "Actual: are  Stemmed: are\n",
            "Actual: readers  Stemmed: readers\n",
            "Actual: who  Stemmed: who\n",
            "Actual: prefer  Stemmed: prefer\n",
            "Actual: learning  Stemmed: learn\n",
            "Actual: new  Stemmed: new\n",
            "Actual: skills  Stemmed: skills\n",
            "Actual: from  Stemmed: from\n",
            "Actual: the  Stemmed: the\n",
            "Actual: comforts  Stemmed: comforts\n",
            "Actual: of  Stemmed: of\n",
            "Actual: their  Stemmed: their\n",
            "Actual: drawing  Stemmed: draw\n",
            "Actual: rooms  Stemmed: rooms\n"
          ]
        }
      ],
      "source": [
        "from nltk.stem import RegexpStemmer\n",
        "rs = RegexpStemmer('ing')\n",
        "for word in words:\n",
        "    print(f\"Actual: {word}  Stemmed: {rs.stem(word)}\")"
      ]
    },
    {
      "cell_type": "markdown",
      "metadata": {
        "id": "OhseKw_crjb5"
      },
      "source": [
        "### Lemmatization\n",
        "\n",
        "> Indented block\n",
        "\n",
        "\n",
        "##### Lemmatization is quite similar to the Stamming. It is used to group different inflected forms of the word, called Lemma. The main difference between Stemming and lemmatization is that it produces the root word, which has a meaning.\n",
        "##### For Example: In lemmatization, the words intelligence, intelligent, and intelligently has a root word intelligent, which has a meaning.\n",
        "\n",
        "### Lemmatization"
      ]
    },
    {
      "cell_type": "code",
      "execution_count": null,
      "metadata": {
        "colab": {
          "base_uri": "https://localhost:8080/"
        },
        "id": "5cVgFb40rjb5",
        "outputId": "8058e71a-6587-4e76-a692-da88101bdb8b"
      },
      "outputs": [
        {
          "output_type": "stream",
          "name": "stdout",
          "text": [
            "Actual: It  Lametized: It\n",
            "Actual: originated  Lametized: originated\n",
            "Actual: from  Lametized: from\n",
            "Actual: the  Lametized: the\n",
            "Actual: idea  Lametized: idea\n",
            "Actual: that  Lametized: that\n",
            "Actual: there  Lametized: there\n",
            "Actual: are  Lametized: are\n",
            "Actual: readers  Lametized: reader\n",
            "Actual: who  Lametized: who\n",
            "Actual: prefer  Lametized: prefer\n",
            "Actual: learning  Lametized: learning\n",
            "Actual: new  Lametized: new\n",
            "Actual: skills  Lametized: skill\n",
            "Actual: from  Lametized: from\n",
            "Actual: the  Lametized: the\n",
            "Actual: comforts  Lametized: comfort\n",
            "Actual: of  Lametized: of\n",
            "Actual: their  Lametized: their\n",
            "Actual: drawing  Lametized: drawing\n",
            "Actual: rooms  Lametized: room\n"
          ]
        }
      ],
      "source": [
        "from nltk.stem import WordNetLemmatizer\n",
        "wl = WordNetLemmatizer()\n",
        "\n",
        "for word in words:\n",
        "    print(f\"Actual: {word}  Lametized: {wl.lemmatize(word)}\")"
      ]
    },
    {
      "cell_type": "markdown",
      "metadata": {
        "id": "1rR2n1Wprjb6"
      },
      "source": [
        "### Parts of Speech(POS) Tags\n",
        "##### POS stands for parts of speech, which includes Noun, verb, adverb, and Adjective. It indicates that how a word functions with its meaning as well as grammatically within the sentences. A word has one or more parts of speech based on the context in which it is used.\n",
        "##### Example: \"Google\" something on the Internet.\n",
        "##### In the above example, Google is used as a verb, although it is a proper noun.\n",
        "\n",
        "### Parts of Speech(POS) Tags"
      ]
    },
    {
      "cell_type": "code",
      "execution_count": null,
      "metadata": {
        "colab": {
          "base_uri": "https://localhost:8080/"
        },
        "id": "vy-foyGWrjb7",
        "outputId": "3334b26b-be7a-4bb8-d285-7f2f311e175e"
      },
      "outputs": [
        {
          "output_type": "execute_result",
          "data": {
            "text/plain": [
              "[('It', 'PRP'),\n",
              " ('originated', 'VBD'),\n",
              " ('from', 'IN'),\n",
              " ('the', 'DT'),\n",
              " ('idea', 'NN'),\n",
              " ('that', 'IN'),\n",
              " ('there', 'EX'),\n",
              " ('are', 'VBP'),\n",
              " ('readers', 'NNS'),\n",
              " ('who', 'WP'),\n",
              " ('prefer', 'VBP'),\n",
              " ('learning', 'VBG'),\n",
              " ('new', 'JJ'),\n",
              " ('skills', 'NNS'),\n",
              " ('from', 'IN'),\n",
              " ('the', 'DT'),\n",
              " ('comforts', 'NNS'),\n",
              " ('of', 'IN'),\n",
              " ('their', 'PRP$'),\n",
              " ('drawing', 'NN'),\n",
              " ('rooms', 'NNS')]"
            ]
          },
          "metadata": {},
          "execution_count": 7
        }
      ],
      "source": [
        "from nltk import pos_tag\n",
        "\n",
        "tags = pos_tag(words)\n",
        "tags"
      ]
    },
    {
      "cell_type": "code",
      "source": [],
      "metadata": {
        "id": "m5XsPaJtunla"
      },
      "execution_count": null,
      "outputs": []
    }
  ],
  "metadata": {
    "kernelspec": {
      "display_name": "Python 3",
      "language": "python",
      "name": "python3"
    },
    "language_info": {
      "codemirror_mode": {
        "name": "ipython",
        "version": 3
      },
      "file_extension": ".py",
      "mimetype": "text/x-python",
      "name": "python",
      "nbconvert_exporter": "python",
      "pygments_lexer": "ipython3",
      "version": "3.8.8"
    },
    "vscode": {
      "interpreter": {
        "hash": "0df79a5982cc5a70553c602a5d43d4cb06524f7080da494cbafac53b4237f0a3"
      }
    },
    "colab": {
      "provenance": []
    }
  },
  "nbformat": 4,
  "nbformat_minor": 0
}