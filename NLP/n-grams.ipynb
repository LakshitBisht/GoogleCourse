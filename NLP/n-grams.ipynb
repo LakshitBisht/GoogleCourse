{
 "cells": [
  {
   "cell_type": "code",
   "execution_count": 1,
   "metadata": {},
   "outputs": [],
   "source": [
    "from nltk.tokenize import word_tokenize"
   ]
  },
  {
   "cell_type": "code",
   "execution_count": 2,
   "metadata": {},
   "outputs": [],
   "source": [
    "corpus = \"NLP stands for Natural Language Processing\"\n",
    "corpus = word_tokenize(corpus)"
   ]
  },
  {
   "cell_type": "code",
   "execution_count": 3,
   "metadata": {},
   "outputs": [],
   "source": [
    "def n_grams_withoutNLTK(n, corpus):\n",
    "  n_grams = list()\n",
    "  n_gram_unit = list()\n",
    "  for i in range(0,len(corpus)):\n",
    "    if(len(corpus)-i<n):\n",
    "      break\n",
    "    n_gram_unit = ' '.join(corpus[i : i+n])\n",
    "    n_grams.append(n_gram_unit)\n",
    "  return(n_grams)"
   ]
  },
  {
   "cell_type": "code",
   "execution_count": 4,
   "metadata": {},
   "outputs": [],
   "source": [
    "from nltk import ngrams\n",
    "\n",
    "def n_grams_withNLTK(n, corpus):\n",
    "  n_grams = ngrams(corpus,n)\n",
    "  res=[x for x in n_grams]\n",
    "  print(res)\n",
    "  return res"
   ]
  },
  {
   "cell_type": "code",
   "execution_count": 5,
   "metadata": {},
   "outputs": [
    {
     "name": "stdout",
     "output_type": "stream",
     "text": [
      "N-Grams Without Using NLTK: \n",
      "For unigram :  ['NLP', 'stands', 'for', 'Natural', 'Language', 'Processing']\n",
      "For bigram :  ['NLP stands', 'stands for', 'for Natural', 'Natural Language', 'Language Processing']\n",
      "For trigram :  ['NLP stands for', 'stands for Natural', 'for Natural Language', 'Natural Language Processing']\n",
      "For four-gram :  ['NLP stands for Natural', 'stands for Natural Language', 'for Natural Language Processing']\n",
      "For five-gram :  ['NLP stands for Natural Language', 'stands for Natural Language Processing']\n"
     ]
    }
   ],
   "source": [
    "\n",
    "print(\"N-Grams Without Using NLTK: \")\n",
    "print(\"For unigram : \",n_grams_withoutNLTK(1,corpus))\n",
    "print(\"For bigram : \",n_grams_withoutNLTK(2,corpus))\n",
    "print(\"For trigram : \",n_grams_withoutNLTK(3,corpus))\n",
    "print(\"For four-gram : \",n_grams_withoutNLTK(4,corpus))\n",
    "print(\"For five-gram : \",n_grams_withoutNLTK(5,corpus))\n"
   ]
  },
  {
   "cell_type": "code",
   "execution_count": 6,
   "metadata": {},
   "outputs": [
    {
     "name": "stdout",
     "output_type": "stream",
     "text": [
      "N-Grams Using NLTK: \n",
      "[('NLP',), ('stands',), ('for',), ('Natural',), ('Language',), ('Processing',)]\n",
      "For unigram :  [('NLP',), ('stands',), ('for',), ('Natural',), ('Language',), ('Processing',)]\n",
      "[('NLP', 'stands'), ('stands', 'for'), ('for', 'Natural'), ('Natural', 'Language'), ('Language', 'Processing')]\n",
      "For bigram :  [('NLP', 'stands'), ('stands', 'for'), ('for', 'Natural'), ('Natural', 'Language'), ('Language', 'Processing')]\n",
      "[('NLP', 'stands', 'for'), ('stands', 'for', 'Natural'), ('for', 'Natural', 'Language'), ('Natural', 'Language', 'Processing')]\n",
      "For trigram :  [('NLP', 'stands', 'for'), ('stands', 'for', 'Natural'), ('for', 'Natural', 'Language'), ('Natural', 'Language', 'Processing')]\n",
      "[('NLP', 'stands', 'for', 'Natural'), ('stands', 'for', 'Natural', 'Language'), ('for', 'Natural', 'Language', 'Processing')]\n",
      "For four-gram :  [('NLP', 'stands', 'for', 'Natural'), ('stands', 'for', 'Natural', 'Language'), ('for', 'Natural', 'Language', 'Processing')]\n",
      "[('NLP', 'stands', 'for', 'Natural', 'Language'), ('stands', 'for', 'Natural', 'Language', 'Processing')]\n",
      "For five-gram :  [('NLP', 'stands', 'for', 'Natural', 'Language'), ('stands', 'for', 'Natural', 'Language', 'Processing')]\n"
     ]
    }
   ],
   "source": [
    "print(\"N-Grams Using NLTK: \")\n",
    "print(\"For unigram : \",n_grams_withNLTK(1,corpus))\n",
    "print(\"For bigram : \",n_grams_withNLTK(2,corpus))\n",
    "print(\"For trigram : \",n_grams_withNLTK(3,corpus))\n",
    "print(\"For four-gram : \",n_grams_withNLTK(4,corpus))\n",
    "print(\"For five-gram : \",n_grams_withNLTK(5,corpus))"
   ]
  },
  {
   "cell_type": "code",
   "execution_count": null,
   "metadata": {},
   "outputs": [],
   "source": []
  }
 ],
 "metadata": {
  "kernelspec": {
   "display_name": "base",
   "language": "python",
   "name": "python3"
  },
  "language_info": {
   "codemirror_mode": {
    "name": "ipython",
    "version": 3
   },
   "file_extension": ".py",
   "mimetype": "text/x-python",
   "name": "python",
   "nbconvert_exporter": "python",
   "pygments_lexer": "ipython3",
   "version": "3.8.8"
  },
  "orig_nbformat": 4
 },
 "nbformat": 4,
 "nbformat_minor": 2
}
