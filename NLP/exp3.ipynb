{
 "cells": [
  {
   "cell_type": "code",
   "execution_count": 14,
   "metadata": {},
   "outputs": [
    {
     "name": "stdout",
     "output_type": "stream",
     "text": [
      "Tokenized text : ['The', 'process', 'of', 'converting', 'data', 'to', 'something', 'a', 'computer', 'can', 'understand', 'is', 'referred', 'to', 'as', 'pre-processing', '.']\n",
      "After removing Stop Words : ['process', 'converting', 'data', 'something', 'computer', 'understand', 'referred', 'pre-processing', '.']\n"
     ]
    }
   ],
   "source": [
    "from nltk.corpus import stopwords\n",
    "from nltk.tokenize import word_tokenize\n",
    "\n",
    "text = \"The process of converting data to something a computer can understand is referred to as pre-processing.\"\n",
    "\n",
    "stopWords = set(stopwords.words('english'))\n",
    "\n",
    "wordTokens = word_tokenize(text)\n",
    "filteredSent = [w for w in wordTokens if w.lower() not in stopWords]\n",
    "\n",
    "print(f\"Tokenized text : {wordTokens}\")\n",
    "print(f\"After removing Stop Words : {filteredSent}\")\n"
   ]
  }
 ],
 "metadata": {
  "kernelspec": {
   "display_name": "base",
   "language": "python",
   "name": "python3"
  },
  "language_info": {
   "codemirror_mode": {
    "name": "ipython",
    "version": 3
   },
   "file_extension": ".py",
   "mimetype": "text/x-python",
   "name": "python",
   "nbconvert_exporter": "python",
   "pygments_lexer": "ipython3",
   "version": "3.8.8"
  },
  "orig_nbformat": 4
 },
 "nbformat": 4,
 "nbformat_minor": 2
}
